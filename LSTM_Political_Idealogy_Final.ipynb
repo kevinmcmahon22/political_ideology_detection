{
  "nbformat": 4,
  "nbformat_minor": 0,
  "metadata": {
    "accelerator": "GPU",
    "colab": {
      "name": "LSTM_Political_Idealogy_Final.ipynb",
      "provenance": [],
      "collapsed_sections": []
    },
    "kernelspec": {
      "display_name": "Python 3",
      "name": "python3"
    },
    "language_info": {
      "name": "python"
    }
  },
  "cells": [
    {
      "cell_type": "code",
      "metadata": {
        "id": "BMZMPnQWAo8D"
      },
      "source": [
        "import numpy as np\n",
        "import pandas as pd\n",
        "import matplotlib.pyplot as plt"
      ],
      "execution_count": 61,
      "outputs": []
    },
    {
      "cell_type": "code",
      "metadata": {
        "id": "SQebrq87WvRl"
      },
      "source": [
        "\n",
        "import nltk\n",
        "\n",
        "from keras.preprocessing.text import Tokenizer\n",
        "from keras.preprocessing.sequence import pad_sequences\n",
        "from keras.models import Sequential\n",
        "from keras.layers import Dense, Flatten, LSTM, Activation,Dropout,Conv1D, MaxPool1D\n",
        "from keras.layers.embeddings import Embedding\n",
        "from keras.models import load_model\n",
        "from gensim.models import Word2Vec"
      ],
      "execution_count": 62,
      "outputs": []
    },
    {
      "cell_type": "code",
      "metadata": {
        "colab": {
          "base_uri": "https://localhost:8080/"
        },
        "id": "D7vW4Bgd_fI2",
        "outputId": "dfd236cf-0af5-4fab-cbf5-88da6c0829b7"
      },
      "source": [
        "nltk.download('punkt')"
      ],
      "execution_count": 63,
      "outputs": [
        {
          "output_type": "stream",
          "name": "stdout",
          "text": [
            "[nltk_data] Downloading package punkt to /root/nltk_data...\n",
            "[nltk_data]   Package punkt is already up-to-date!\n"
          ]
        },
        {
          "output_type": "execute_result",
          "data": {
            "text/plain": [
              "True"
            ]
          },
          "metadata": {},
          "execution_count": 63
        }
      ]
    },
    {
      "cell_type": "code",
      "metadata": {
        "id": "uVHTUvnuUFu8"
      },
      "source": [
        "train_data = pd.read_csv('df_convote_train.csv')\n",
        "test_data = pd.read_csv('df_convote_test.csv')"
      ],
      "execution_count": 64,
      "outputs": []
    },
    {
      "cell_type": "code",
      "metadata": {
        "id": "WNsFupK187gv"
      },
      "source": [
        "y = train_data['political_party'].values\n",
        "X = []\n",
        "\n",
        "for line in train_data[\"text\"].values:\n",
        "    corpus = []\n",
        "    sentences = nltk.sent_tokenize(line)\n",
        "    for sent in sentences:\n",
        "        sent = sent.lower()\n",
        "        tokens = nltk.tokenize.word_tokenize(sent)\n",
        "        filtered_words = [w.strip() for w in tokens if len(w) > 1]\n",
        "        corpus.extend(filtered_words)\n",
        "    X.append(corpus)"
      ],
      "execution_count": 78,
      "outputs": []
    },
    {
      "cell_type": "code",
      "metadata": {
        "id": "MXozJNwe_kOF"
      },
      "source": [
        "y_test = test_data['political_party'].values\n",
        "\n",
        "X_test = []\n",
        "for line in test_data[\"text\"].values:\n",
        "    tmp = []\n",
        "    sentences = nltk.sent_tokenize(line)\n",
        "    for sent in sentences:\n",
        "        sent = sent.lower()\n",
        "        tokens = nltk.word_tokenize(sent)\n",
        "        filtered_words = [w.strip() for w in tokens if len(w) > 1]\n",
        "        tmp.extend(filtered_words)\n",
        "    X_test.append(tmp)"
      ],
      "execution_count": 79,
      "outputs": []
    },
    {
      "cell_type": "code",
      "metadata": {
        "id": "OyEBGnJr_-Ho"
      },
      "source": [
        "X_total = X\n"
      ],
      "execution_count": 81,
      "outputs": []
    },
    {
      "cell_type": "code",
      "metadata": {
        "id": "PsDhfe18dO_4"
      },
      "source": [
        "# tokenizer = Tokenizer()\n",
        "# tokenizer.fit_on_texts(X_total)\n",
        "\n",
        "# X_temp = tokenizer.texts_to_sequences(X_total)\n",
        "# word_index_Xtotal = tokenizer.word_index"
      ],
      "execution_count": 41,
      "outputs": []
    },
    {
      "cell_type": "code",
      "metadata": {
        "id": "pNX_fErwpQTT"
      },
      "source": [
        "import gensim"
      ],
      "execution_count": 82,
      "outputs": []
    },
    {
      "cell_type": "code",
      "metadata": {
        "id": "Gi_UzrKBhgpb"
      },
      "source": [
        "#Dimension of vectors we are generating\n",
        "EMBEDDING_DIM = 300\n",
        "\n",
        "#Creating Word Vectors by Word2Vec Method (takes time...)\n",
        "w2v_model = gensim.models.Word2Vec(sentences=X_total, size=EMBEDDING_DIM, window=5, min_count=1,sg=1)"
      ],
      "execution_count": 83,
      "outputs": []
    },
    {
      "cell_type": "code",
      "metadata": {
        "id": "5IK5G0m7WxCn",
        "colab": {
          "base_uri": "https://localhost:8080/"
        },
        "outputId": "0743f2e7-f328-4711-a3f5-e44ded113d0a"
      },
      "source": [
        "len(w2v_model.wv.vocab)"
      ],
      "execution_count": 84,
      "outputs": [
        {
          "output_type": "execute_result",
          "data": {
            "text/plain": [
              "25462"
            ]
          },
          "metadata": {},
          "execution_count": 84
        }
      ]
    },
    {
      "cell_type": "code",
      "metadata": {
        "id": "_hjTGzaAW3Ns"
      },
      "source": [
        "tokenizer = Tokenizer()\n",
        "tokenizer.fit_on_texts(X)\n",
        "\n",
        "X = tokenizer.texts_to_sequences(X)\n",
        "word_index = tokenizer.word_index"
      ],
      "execution_count": 85,
      "outputs": []
    },
    {
      "cell_type": "code",
      "metadata": {
        "id": "J0w9yOb9qyNb"
      },
      "source": [
        "maxlen = 1000 \n",
        "\n",
        "#Making all news of size maxlen defined above\n",
        "X = pad_sequences(X, maxlen=maxlen)"
      ],
      "execution_count": 86,
      "outputs": []
    },
    {
      "cell_type": "code",
      "metadata": {
        "id": "L90BQmK4qzh6"
      },
      "source": [
        "tokenizer = Tokenizer()\n",
        "tokenizer.fit_on_texts(X_total)\n",
        "\n",
        "X_tmp = tokenizer.texts_to_sequences(X_total)\n",
        "word_index_total = tokenizer.word_index"
      ],
      "execution_count": 87,
      "outputs": []
    },
    {
      "cell_type": "code",
      "metadata": {
        "id": "o_tvcwasrFKQ"
      },
      "source": [
        "# Function to create weight matrix from word2vec gensim model\n",
        "def get_weight_matrix(model, vocab):\n",
        "    # total vocabulary size plus 0 for unknown words\n",
        "    vocab_size = len(vocab) + 1\n",
        "    # define weight matrix dimensions with all 0\n",
        "    weight_matrix = np.zeros((vocab_size, EMBEDDING_DIM))\n",
        "    # step vocab, store vectors using the Tokenizer's integer mapping\n",
        "    for word, i in vocab.items():\n",
        "        weight_matrix[i] = model[word]\n",
        "    return weight_matrix"
      ],
      "execution_count": 88,
      "outputs": []
    },
    {
      "cell_type": "code",
      "metadata": {
        "colab": {
          "base_uri": "https://localhost:8080/"
        },
        "id": "jOAI50K3rI0c",
        "outputId": "7a06d6a0-77dc-451c-b02e-7866c60c45f6"
      },
      "source": [
        "embedding_vectors = get_weight_matrix(w2v_model, word_index_total)\n"
      ],
      "execution_count": 89,
      "outputs": [
        {
          "output_type": "stream",
          "name": "stderr",
          "text": [
            "/usr/local/lib/python3.7/dist-packages/ipykernel_launcher.py:9: DeprecationWarning: Call to deprecated `__getitem__` (Method will be removed in 4.0.0, use self.wv.__getitem__() instead).\n",
            "  if __name__ == '__main__':\n"
          ]
        }
      ]
    },
    {
      "cell_type": "code",
      "metadata": {
        "id": "2S63Vlc4W7iC"
      },
      "source": [
        "# model = Sequential()\n",
        "# #Non-trainable embeddidng layer\n",
        "# model.add(Embedding(vocab_size, output_dim=EMBEDDING_DIM, weights=[embedding_vectors], input_length=maxlen, trainable=False))\n",
        "# #LSTM \n",
        "# model.add(LSTM(units=maxlen))\n",
        "# model.add(Dense(1, activation='sigmoid'))\n",
        "# model.compile(optimizer='adam', loss='binary_crossentropy', metrics=['acc'])\n",
        "\n",
        "model = Sequential()\n",
        "model.add(Embedding(25463, output_dim=EMBEDDING_DIM, weights=[embedding_vectors], input_length=1000, trainable=True))\n",
        "model.add(Conv1D(activation='relu', filters=4, kernel_size=4))\n",
        "model.add(MaxPool1D())\n",
        "model.add(LSTM(units=128))\n",
        "model.add(Dense(1, activation='sigmoid'))\n",
        "model.compile(optimizer='adam', loss='binary_crossentropy', metrics=['acc'])\n"
      ],
      "execution_count": 90,
      "outputs": []
    },
    {
      "cell_type": "code",
      "metadata": {
        "colab": {
          "base_uri": "https://localhost:8080/"
        },
        "id": "yWCZ1KtEPp_k",
        "outputId": "f5e4b412-8ea6-4438-bb1e-126eab0f5e45"
      },
      "source": [
        "model.summary()"
      ],
      "execution_count": 91,
      "outputs": [
        {
          "output_type": "stream",
          "name": "stdout",
          "text": [
            "Model: \"sequential_5\"\n",
            "_________________________________________________________________\n",
            " Layer (type)                Output Shape              Param #   \n",
            "=================================================================\n",
            " embedding_3 (Embedding)     (None, 1000, 300)         7638900   \n",
            "                                                                 \n",
            " conv1d_2 (Conv1D)           (None, 997, 4)            4804      \n",
            "                                                                 \n",
            " max_pooling1d_2 (MaxPooling  (None, 498, 4)           0         \n",
            " 1D)                                                             \n",
            "                                                                 \n",
            " lstm_2 (LSTM)               (None, 128)               68096     \n",
            "                                                                 \n",
            " dense_2 (Dense)             (None, 1)                 129       \n",
            "                                                                 \n",
            "=================================================================\n",
            "Total params: 7,711,929\n",
            "Trainable params: 7,711,929\n",
            "Non-trainable params: 0\n",
            "_________________________________________________________________\n"
          ]
        }
      ]
    },
    {
      "cell_type": "code",
      "metadata": {
        "id": "Baj7DSI-sIMz",
        "colab": {
          "base_uri": "https://localhost:8080/"
        },
        "outputId": "b1626e3e-5f08-4fb6-8ea2-eb7eec137823"
      },
      "source": [
        "from sklearn.model_selection import train_test_split\n",
        "\n",
        "X_train, X_val, y_train, y_val = train_test_split(X, y,test_size=0.1,random_state=42) \n",
        "history = model.fit(X_train,y_train, epochs=20)"
      ],
      "execution_count": 92,
      "outputs": [
        {
          "output_type": "stream",
          "name": "stdout",
          "text": [
            "Epoch 1/20\n",
            "160/160 [==============================] - 18s 99ms/step - loss: 0.6832 - acc: 0.5583\n",
            "Epoch 2/20\n",
            "160/160 [==============================] - 16s 98ms/step - loss: 0.6068 - acc: 0.6673\n",
            "Epoch 3/20\n",
            "160/160 [==============================] - 16s 98ms/step - loss: 0.4491 - acc: 0.7786\n",
            "Epoch 4/20\n",
            "160/160 [==============================] - 16s 98ms/step - loss: 0.2966 - acc: 0.8606\n",
            "Epoch 5/20\n",
            "160/160 [==============================] - 16s 98ms/step - loss: 0.2060 - acc: 0.8969\n",
            "Epoch 6/20\n",
            "160/160 [==============================] - 16s 98ms/step - loss: 0.1699 - acc: 0.9138\n",
            "Epoch 7/20\n",
            "160/160 [==============================] - 16s 98ms/step - loss: 0.1492 - acc: 0.9215\n",
            "Epoch 8/20\n",
            "160/160 [==============================] - 16s 98ms/step - loss: 0.1513 - acc: 0.9183\n",
            "Epoch 9/20\n",
            "160/160 [==============================] - 16s 98ms/step - loss: 0.1356 - acc: 0.9268\n",
            "Epoch 10/20\n",
            "160/160 [==============================] - 16s 98ms/step - loss: 0.1300 - acc: 0.9295\n",
            "Epoch 11/20\n",
            "160/160 [==============================] - 16s 98ms/step - loss: 0.1299 - acc: 0.9323\n",
            "Epoch 12/20\n",
            "160/160 [==============================] - 16s 97ms/step - loss: 0.1264 - acc: 0.9293\n",
            "Epoch 13/20\n",
            "160/160 [==============================] - 16s 97ms/step - loss: 0.1232 - acc: 0.9333\n",
            "Epoch 14/20\n",
            "160/160 [==============================] - 16s 98ms/step - loss: 0.1271 - acc: 0.9295\n",
            "Epoch 15/20\n",
            "160/160 [==============================] - 16s 97ms/step - loss: 0.1266 - acc: 0.9311\n",
            "Epoch 16/20\n",
            "160/160 [==============================] - 16s 98ms/step - loss: 0.1392 - acc: 0.9278\n",
            "Epoch 17/20\n",
            "160/160 [==============================] - 16s 97ms/step - loss: 0.1467 - acc: 0.9238\n",
            "Epoch 18/20\n",
            "160/160 [==============================] - 16s 97ms/step - loss: 0.1216 - acc: 0.9336\n",
            "Epoch 19/20\n",
            "160/160 [==============================] - 16s 97ms/step - loss: 0.1180 - acc: 0.9319\n",
            "Epoch 20/20\n",
            "160/160 [==============================] - 16s 98ms/step - loss: 0.1167 - acc: 0.9335\n"
          ]
        }
      ]
    },
    {
      "cell_type": "code",
      "metadata": {
        "colab": {
          "base_uri": "https://localhost:8080/",
          "height": 295
        },
        "id": "IxUQs_3zK7LJ",
        "outputId": "b6b3ef69-8d9a-4f15-8d89-79453670d3b3"
      },
      "source": [
        "import matplotlib.pyplot as plt\n",
        "\n",
        "plt.plot(history.history['acc'])\n",
        "\n",
        "plt.title('model accuracy')\n",
        "plt.ylabel('accuracy')\n",
        "plt.xlabel('epoch')\n",
        "plt.legend(['train', 'test'], loc='upper left')\n",
        "plt.show()"
      ],
      "execution_count": 93,
      "outputs": [
        {
          "output_type": "display_data",
          "data": {
            "image/png": "[encoded data removed]",
            "text/plain": [
              "<Figure size 432x288 with 1 Axes>"
            ]
          },
          "metadata": {
            "needs_background": "light"
          }
        }
      ]
    },
    {
      "cell_type": "code",
      "metadata": {
        "id": "cB3ha41zubBS"
      },
      "source": [
        "tokenizer = Tokenizer()\n",
        "tokenizer.fit_on_texts(X_test)\n",
        "\n",
        "X_test = tokenizer.texts_to_sequences(X_test)\n",
        "word_index_test = tokenizer.word_index"
      ],
      "execution_count": 94,
      "outputs": []
    },
    {
      "cell_type": "code",
      "metadata": {
        "id": "gWj4zH3fuo0l"
      },
      "source": [
        "maxlen = 1000 \n",
        "\n",
        "#Making all news of size maxlen defined above\n",
        "X_test = pad_sequences(X_test, maxlen=maxlen)"
      ],
      "execution_count": 95,
      "outputs": []
    },
    {
      "cell_type": "code",
      "metadata": {
        "id": "4O3g6Q6_W_08"
      },
      "source": [
        "y_pred_val = (model.predict(X_val) >= 0.5).astype(\"int\")\n",
        "y_pred = (model.predict(X_test) >= 0.5).astype(\"int\")"
      ],
      "execution_count": 96,
      "outputs": []
    },
    {
      "cell_type": "code",
      "metadata": {
        "id": "HMBEztfDXLIq",
        "colab": {
          "base_uri": "https://localhost:8080/"
        },
        "outputId": "1d54b675-9096-4b89-8bc3-46cfc02a6fa3"
      },
      "source": [
        "from sklearn.metrics import classification_report, accuracy_score\n",
        "accuracy_score(y_val, y_pred_val)\n",
        "#validation accuracy"
      ],
      "execution_count": 97,
      "outputs": [
        {
          "output_type": "execute_result",
          "data": {
            "text/plain": [
              "0.6696113074204947"
            ]
          },
          "metadata": {},
          "execution_count": 97
        }
      ]
    },
    {
      "cell_type": "code",
      "metadata": {
        "id": "Dy80SqDPFyRM",
        "colab": {
          "base_uri": "https://localhost:8080/"
        },
        "outputId": "39927b22-b43d-41a5-ad2e-15229671eb8b"
      },
      "source": [
        "accuracy_score(y_test, y_pred)\n",
        "#test accuracy"
      ],
      "execution_count": 98,
      "outputs": [
        {
          "output_type": "execute_result",
          "data": {
            "text/plain": [
              "0.5616827743035816"
            ]
          },
          "metadata": {},
          "execution_count": 98
        }
      ]
    },
    {
      "cell_type": "code",
      "metadata": {
        "id": "7NNVNVB0vRNF",
        "colab": {
          "base_uri": "https://localhost:8080/"
        },
        "outputId": "223915d1-daad-4183-df08-717052804ef0"
      },
      "source": [
        "print(classification_report(y_test, y_pred))"
      ],
      "execution_count": 99,
      "outputs": [
        {
          "output_type": "stream",
          "name": "stdout",
          "text": [
            "              precision    recall  f1-score   support\n",
            "\n",
            "           0       0.57      0.46      0.51       868\n",
            "           1       0.56      0.66      0.60       891\n",
            "\n",
            "    accuracy                           0.56      1759\n",
            "   macro avg       0.56      0.56      0.56      1759\n",
            "weighted avg       0.56      0.56      0.56      1759\n",
            "\n"
          ]
        }
      ]
    }
  ]
}