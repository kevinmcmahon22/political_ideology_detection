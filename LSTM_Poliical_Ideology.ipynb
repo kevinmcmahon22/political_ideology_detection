{
  "nbformat": 4,
  "nbformat_minor": 0,
  "metadata": {
    "colab": {
      "name": "LSTM_Poliical_Ideology.ipynb",
      "provenance": []
    },
    "kernelspec": {
      "name": "python3",
      "display_name": "Python 3"
    },
    "language_info": {
      "name": "python"
    }
  },
  "cells": [
    {
      "cell_type": "code",
      "metadata": {
        "id": "mkz4gbrw9b14"
      },
      "source": [
        "import numpy as np\n",
        "import pandas as pd"
      ],
      "execution_count": 56,
      "outputs": []
    },
    {
      "cell_type": "code",
      "metadata": {
        "id": "21O4QuGO9l21"
      },
      "source": [
        "from keras.preprocessing.text import Tokenizer\n",
        "from keras.preprocessing.sequence import pad_sequences\n",
        "from keras.models import Sequential\n",
        "from keras.layers import Dense, Flatten, LSTM, Conv1D, MaxPooling1D, Dropout, Activation\n",
        "from keras.layers.embeddings import Embedding\n",
        "from keras.models import load_model"
      ],
      "execution_count": 57,
      "outputs": []
    },
    {
      "cell_type": "code",
      "metadata": {
        "id": "4ZLCC4yr9pVR"
      },
      "source": [
        "# Scikit learn \n",
        "from sklearn.model_selection import train_test_split"
      ],
      "execution_count": 58,
      "outputs": []
    },
    {
      "cell_type": "code",
      "metadata": {
        "id": "ZIt_lJK5-BRt"
      },
      "source": [
        "train_data = pd.read_csv('df_convote_train.csv')\n",
        "test_data = pd.read_csv('df_convote_test.csv')"
      ],
      "execution_count": 59,
      "outputs": []
    },
    {
      "cell_type": "code",
      "metadata": {
        "id": "PME9mpad-dHd"
      },
      "source": [
        "train_text = np.array(train_data.iloc[:,1].values)\n",
        "train_labels = np.array(train_data.iloc[:,3].values)"
      ],
      "execution_count": 60,
      "outputs": []
    },
    {
      "cell_type": "code",
      "metadata": {
        "id": "3qKt-P7QBkSh"
      },
      "source": [
        "tokenizer = Tokenizer(num_words=50000)\n",
        "train_sequences = tokenizer.texts_to_sequences(train_text)\n",
        "train_sequences = pad_sequences(train_sequences, maxlen=20)\n"
      ],
      "execution_count": 61,
      "outputs": []
    },
    {
      "cell_type": "code",
      "metadata": {
        "id": "ky7BnCWeAbej"
      },
      "source": [
        "model = Sequential()\n",
        "model.add(Embedding(50000, 20, input_length=20))\n",
        "model.add(LSTM(20, dropout=0.3, recurrent_dropout=0.3))\n",
        "model.add(Dense(10, activation='sigmoid'))\n",
        "model.add(Dense(5, activation='sigmoid'))\n",
        "model.add(Dense(1, activation='sigmoid'))\n",
        "model.compile(loss='binary_crossentropy', optimizer='adam', metrics=['accuracy'])"
      ],
      "execution_count": 62,
      "outputs": []
    },
    {
      "cell_type": "code",
      "metadata": {
        "colab": {
          "base_uri": "https://localhost:8080/"
        },
        "id": "jU5-FgI8AhUY",
        "outputId": "538c3a7e-9672-47c4-e7ea-a0fb617dbdcd"
      },
      "source": [
        "## Fit the model\n",
        "\n",
        "history = model.fit(train_sequences, train_labels,epochs=10, batch_size=16, verbose = 2)"
      ],
      "execution_count": 63,
      "outputs": [
        {
          "output_type": "stream",
          "name": "stdout",
          "text": [
            "Epoch 1/10\n",
            "354/354 - 14s - loss: 0.7559 - accuracy: 0.5078 - 14s/epoch - 39ms/step\n",
            "Epoch 2/10\n",
            "354/354 - 10s - loss: 0.6946 - accuracy: 0.5078 - 10s/epoch - 28ms/step\n",
            "Epoch 3/10\n",
            "354/354 - 10s - loss: 0.6931 - accuracy: 0.5078 - 10s/epoch - 29ms/step\n",
            "Epoch 4/10\n",
            "354/354 - 10s - loss: 0.6932 - accuracy: 0.5051 - 10s/epoch - 28ms/step\n",
            "Epoch 5/10\n",
            "354/354 - 10s - loss: 0.6931 - accuracy: 0.4943 - 10s/epoch - 28ms/step\n",
            "Epoch 6/10\n",
            "354/354 - 10s - loss: 0.6932 - accuracy: 0.5078 - 10s/epoch - 28ms/step\n",
            "Epoch 7/10\n",
            "354/354 - 10s - loss: 0.6932 - accuracy: 0.5088 - 10s/epoch - 29ms/step\n",
            "Epoch 8/10\n",
            "354/354 - 10s - loss: 0.6933 - accuracy: 0.4936 - 10s/epoch - 28ms/step\n",
            "Epoch 9/10\n",
            "354/354 - 10s - loss: 0.6932 - accuracy: 0.4998 - 10s/epoch - 28ms/step\n",
            "Epoch 10/10\n",
            "354/354 - 10s - loss: 0.6933 - accuracy: 0.5053 - 10s/epoch - 28ms/step\n"
          ]
        }
      ]
    },
    {
      "cell_type": "code",
      "metadata": {
        "id": "7vfxLJ4ZQZyk"
      },
      "source": [
        "test_text = np.array(test_data.iloc[:,1].values)\n",
        "test_labels = np.array(test_data.iloc[:,3].values)"
      ],
      "execution_count": 64,
      "outputs": []
    },
    {
      "cell_type": "code",
      "metadata": {
        "id": "SGVInHWzR8EY"
      },
      "source": [
        "tokenizer = Tokenizer(num_words=50000)\n",
        "test_sequences = tokenizer.texts_to_sequences(test_text)\n",
        "test_sequences = pad_sequences(test_sequences, maxlen=20)"
      ],
      "execution_count": 65,
      "outputs": []
    },
    {
      "cell_type": "code",
      "metadata": {
        "colab": {
          "base_uri": "https://localhost:8080/"
        },
        "id": "vZZn0VG8SVMl",
        "outputId": "ed4fbc21-3f0d-4cb1-a1c2-580cedb659bc"
      },
      "source": [
        "score, accuracy = model.evaluate(test_sequences,test_labels,batch_size=16)"
      ],
      "execution_count": 66,
      "outputs": [
        {
          "output_type": "stream",
          "name": "stdout",
          "text": [
            "110/110 [==============================] - 1s 4ms/step - loss: 0.6934 - accuracy: 0.4935\n"
          ]
        }
      ]
    },
    {
      "cell_type": "code",
      "metadata": {
        "colab": {
          "base_uri": "https://localhost:8080/"
        },
        "id": "rdEG6uxgSnCm",
        "outputId": "0a361b27-515c-4017-aa44-525282c3af6d"
      },
      "source": [
        "accuracy"
      ],
      "execution_count": 67,
      "outputs": [
        {
          "output_type": "execute_result",
          "data": {
            "text/plain": [
              "0.4934622049331665"
            ]
          },
          "metadata": {},
          "execution_count": 67
        }
      ]
    }
  ]
}