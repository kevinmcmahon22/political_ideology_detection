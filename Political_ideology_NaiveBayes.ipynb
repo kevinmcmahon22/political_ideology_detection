{
 "cells": [
  {
   "cell_type": "code",
   "execution_count": 1,
   "metadata": {
    "id": "OjTd1SA17HSE"
   },
   "outputs": [],
   "source": [
    "import pandas as pd\n",
    "from sklearn.model_selection import train_test_split\n",
    "from sklearn.feature_extraction.text import TfidfVectorizer, CountVectorizer"
   ]
  },
  {
   "cell_type": "code",
   "execution_count": 2,
   "metadata": {
    "id": "I-OPgdxb7QkB"
   },
   "outputs": [],
   "source": [
    "train_data = pd.read_csv('../df_convote_train.csv')\n",
    "test_data = pd.read_csv('../df_convote_test.csv')\n"
   ]
  },
  {
   "cell_type": "code",
   "execution_count": 3,
   "metadata": {
    "id": "FMnAloof7fTF"
   },
   "outputs": [],
   "source": [
    "train_text = train_data.text.values\n",
    "train_labels = train_data.political_party.values\n",
    "\n"
   ]
  },
  {
   "cell_type": "code",
   "execution_count": 4,
   "metadata": {
    "id": "EToU_B4z8_Wv"
   },
   "outputs": [],
   "source": [
    "test_x = test_data.text.values"
   ]
  },
  {
   "cell_type": "code",
   "execution_count": 17,
   "metadata": {},
   "outputs": [],
   "source": [
    "#Tf-Idf \n",
    "tf_idf = TfidfVectorizer(ngram_range=(1,3))\n",
    "X_tf_idf_train = tf_idf.fit_transform(train_text)\n",
    "X_tf_idf_test = tf_idf.transform(test_x)"
   ]
  },
  {
   "cell_type": "code",
   "execution_count": 30,
   "metadata": {},
   "outputs": [],
   "source": [
    "X_train,X_val,y_train,y_val = train_test_split(X_tf_idf_train,train_labels,test_size=0.1,random_state=42)"
   ]
  },
  {
   "cell_type": "code",
   "execution_count": 31,
   "metadata": {
    "colab": {
     "base_uri": "https://localhost:8080/"
    },
    "id": "MPD9hVo0-W8R",
    "outputId": "c13550c7-61cf-484f-e57f-5206dd0bd9d7"
   },
   "outputs": [
    {
     "name": "stdout",
     "output_type": "stream",
     "text": [
      "accuracy 0.7163160886867538\n",
      "              precision    recall  f1-score   support\n",
      "\n",
      "           0       0.68      0.81      0.74       868\n",
      "           1       0.77      0.62      0.69       891\n",
      "\n",
      "    accuracy                           0.72      1759\n",
      "   macro avg       0.73      0.72      0.71      1759\n",
      "weighted avg       0.73      0.72      0.71      1759\n",
      "\n"
     ]
    }
   ],
   "source": [
    "from sklearn.naive_bayes import MultinomialNB\n",
    "import numpy as np\n",
    "from sklearn.metrics import accuracy_score, classification_report\n",
    "\n",
    "#Tf-Idf\n",
    "\n",
    "model = MultinomialNB(alpha=0.005)\n",
    "model.fit(X_train, y_train)\n",
    "\n",
    "y_pred = model.predict(X_tf_idf_test)\n",
    "\n",
    "print('accuracy %s' % accuracy_score(y_pred, test_data.political_party.values))\n",
    "print(classification_report(test_data.political_party.values, y_pred))"
   ]
  },
  {
   "cell_type": "code",
   "execution_count": null,
   "metadata": {},
   "outputs": [],
   "source": []
  },
  {
   "cell_type": "code",
   "execution_count": null,
   "metadata": {},
   "outputs": [],
   "source": []
  }
 ],
 "metadata": {
  "accelerator": "GPU",
  "colab": {
   "name": "Political_ideology_NaiveBayes.ipynb",
   "provenance": []
  },
  "kernelspec": {
   "display_name": "Python 3",
   "language": "python",
   "name": "python3"
  },
  "language_info": {
   "codemirror_mode": {
    "name": "ipython",
    "version": 3
   },
   "file_extension": ".py",
   "mimetype": "text/x-python",
   "name": "python",
   "nbconvert_exporter": "python",
   "pygments_lexer": "ipython3",
   "version": "3.7.6"
  }
 },
 "nbformat": 4,
 "nbformat_minor": 1
}
